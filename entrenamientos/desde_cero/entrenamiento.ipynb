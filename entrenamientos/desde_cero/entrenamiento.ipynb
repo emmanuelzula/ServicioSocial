{
 "cells": [
  {
   "attachments": {},
   "cell_type": "markdown",
   "metadata": {},
   "source": [
    "# Entrenamiento desde cero"
   ]
  },
  {
   "attachments": {},
   "cell_type": "markdown",
   "metadata": {},
   "source": [
    "## Argumentos de entrenamiento"
   ]
  },
  {
   "attachments": {},
   "cell_type": "markdown",
   "metadata": {},
   "source": [
    "### Carpeta de salida"
   ]
  },
  {
   "attachments": {},
   "cell_type": "markdown",
   "metadata": {},
   "source": [
    "Debemos crear una capeta donde se guardarán los resultados del entrenamiento. Esto lo hacemos con el siguiente comando"
   ]
  },
  {
   "cell_type": "code",
   "execution_count": null,
   "metadata": {},
   "outputs": [],
   "source": [
    "import os\n",
    "os.system('mkdir output')"
   ]
  },
  {
   "attachments": {},
   "cell_type": "markdown",
   "metadata": {},
   "source": [
    "### Selección de gpu"
   ]
  },
  {
   "attachments": {},
   "cell_type": "markdown",
   "metadata": {},
   "source": [
    "Para ver las gpu disponibles y su etiqueta ejecutamos el siguiente comando"
   ]
  },
  {
   "cell_type": "code",
   "execution_count": null,
   "metadata": {},
   "outputs": [],
   "source": [
    "os.system('nvidia-smi')"
   ]
  },
  {
   "attachments": {},
   "cell_type": "markdown",
   "metadata": {},
   "source": [
    "Podemos seleccionar la gpu de dos maneras. Una forma es mediante el argumento de entrenamiento --ngpus en el archivo de configuración yaml, al escribir -1 seleccionaremos todas las gpus disponibles. Otra manera es especificandola al momento de iniciar el entrenamiento."
   ]
  },
  {
   "attachments": {},
   "cell_type": "markdown",
   "metadata": {},
   "source": [
    "## Entrenamiento"
   ]
  },
  {
   "attachments": {},
   "cell_type": "markdown",
   "metadata": {},
   "source": [
    "Entrenamieto con el conjunto de datos ANI1"
   ]
  },
  {
   "cell_type": "code",
   "execution_count": null,
   "metadata": {},
   "outputs": [],
   "source": [
    "os.system('CUDA_VISIBLE_DEVICES=4 torchmd-train --conf torchmd-net/examples/ET-ANI1.yaml --log-dir output/')"
   ]
  },
  {
   "attachments": {},
   "cell_type": "markdown",
   "metadata": {},
   "source": [
    "Entrenamieto con el conjunto de datos MD17"
   ]
  },
  {
   "cell_type": "code",
   "execution_count": null,
   "metadata": {},
   "outputs": [],
   "source": [
    "os.system('CUDA_VISIBLE_DEVICES=4 torchmd-train --conf torchmd-net/examples/ET-MD17.yaml --log-dir output/')"
   ]
  },
  {
   "attachments": {},
   "cell_type": "markdown",
   "metadata": {},
   "source": [
    "Entrenamieto con el conjunto de datos QM9"
   ]
  },
  {
   "cell_type": "code",
   "execution_count": null,
   "metadata": {},
   "outputs": [],
   "source": [
    "os.system('CUDA_VISIBLE_DEVICES=4 torchmd-train --conf torchmd-net/examples/ET-QM9).yaml --log-dir output/')"
   ]
  },
  {
   "attachments": {},
   "cell_type": "markdown",
   "metadata": {},
   "source": [
    "Entrenamieto con el conjunto de datos SPICE"
   ]
  },
  {
   "cell_type": "code",
   "execution_count": null,
   "metadata": {},
   "outputs": [],
   "source": [
    "os.system('CUDA_VISIBLE_DEVICES=4 torchmd-train --conf torchmd-net/examples/ET-SPICE.yaml --log-dir output/')"
   ]
  },
  {
   "attachments": {},
   "cell_type": "markdown",
   "metadata": {},
   "source": [
    "# Texto Original"
   ]
  },
  {
   "attachments": {},
   "cell_type": "markdown",
   "metadata": {},
   "source": [
    "## Uso\n",
    "Especificar los argumentos de entrenamiento puede hacerse a través de un fichero yaml de configuración o a través de argumentos de línea de comandos directamente. Puede encontrar un archivo de configuración de ejemplo para una Red Gráfica TorchMD en [examples/](https://github.com/compsciencelab/torchmd-net/blob/main/examples). Para ver un ejemplo de cómo entrenar la red en el conjunto de datos QM9, consulte [examples/](https://github.com/compsciencelab/torchmd-net/blob/main/examples). Las GPUs pueden seleccionarse por su índice listando los IDs de los dispositivos (procedentes de `nvidia-smi`) en la variable de entorno `CUDA_VISIBLE_DEVICES`. De lo contrario, el argumento `--ngpus` se puede utilizar para seleccionar el número de GPUs con las que entrenar (-1 utiliza todas las GPUs disponibles o las especificadas en `CUDA_VISIBLE_DEVICES`).\n",
    "```\n",
    "mkdir output\n",
    "CUDA_VISIBLE_DEVICES=0 torchmd-train --conf torchmd-net/examples/ET-QM9.yaml --log-dir output/\n",
    "```"
   ]
  },
  {
   "attachments": {},
   "cell_type": "markdown",
   "metadata": {},
   "source": [
    "## Ejemplos\n",
    "\n",
    "### Entrenamiento\n",
    "Proporcionamos tres archivos de configuración de ejemplo para el ET para el entrenamiento en QM9, MD17 y ANI1 respectivamente. Para entrenar con un objetivo QM9 distinto de `energy_U0`, cambie el parámetro `dataset_arg` en el archivo de configuración QM9. Cambiar la molécula MD17 para entrenar funciona de forma análoga. Para entrenar un ET desde cero puede utilizar el siguiente código del directorio torchmd-net:\n",
    "```bash\n",
    "CUDA_VISIBLE_DEVICES=0,1 torchmd-train --conf examples/ET-{QM9,MD17,ANI1}.yaml\n",
    "```\n",
    "Utiliza la variable de entorno `CUDA_VISIBLE_DEVICES` para seleccionar en qué GPU quieres entrenar y cuántas. El ejemplo anterior selecciona GPUs con índices 0 y 1. El código de entrenamiento querrá guardar los puntos de control y los archivos de configuración en un directorio llamado `logs/`, que puedes cambiar en el archivo config.yaml o como argumento adicional en la línea de comandos: `--log-dir path/to/log-dir`."
   ]
  }
 ],
 "metadata": {
  "kernelspec": {
   "display_name": "base",
   "language": "python",
   "name": "python3"
  },
  "language_info": {
   "name": "python",
   "version": "3.9.13 (main, Aug 25 2022, 23:51:50) [MSC v.1916 64 bit (AMD64)]"
  },
  "orig_nbformat": 4,
  "vscode": {
   "interpreter": {
    "hash": "4fdb5f1d017076b8ecb713a321f24a29afd116257f8eebf387a98257b2e0be50"
   }
  }
 },
 "nbformat": 4,
 "nbformat_minor": 2
}

{
 "cells": [
  {
   "attachments": {},
   "cell_type": "markdown",
   "metadata": {},
   "source": [
    "# Entrenamiento desde puntos de control"
   ]
  },
  {
   "attachments": {},
   "cell_type": "markdown",
   "metadata": {},
   "source": [
    "## Puntos de control"
   ]
  },
  {
   "attachments": {},
   "cell_type": "markdown",
   "metadata": {},
   "source": [
    "Contamos con los siguientes 4 puntos de control preentrenados:\n",
    "\n",
    "- equivariant Transformer pretrained on QM9 (U0): et-qm9\\epoch=649-val_loss=0.0003-test_loss=0.0059.ckpt\n",
    "- equivariant Transformer pretrained on MD17 (aspirin): et-md17\\epoch=2139-val_loss=0.2543-test_loss=0.2317.ckpt\n",
    "- equivariant Transformer pretrained on ANI1: ANI1-equivariant_transformer\\epoch=359-val_loss=0.0004-test_loss=0.0120.ckpt\n",
    "- invariant Transformer pretrained on ANI1: ANI1-transformer\\epoch=109-val_loss=0.0008-test_loss=0.0180.ckpt\n"
   ]
  },
  {
   "attachments": {},
   "cell_type": "markdown",
   "metadata": {},
   "source": [
    "## Inferencia a partir de los puntos de control"
   ]
  },
  {
   "attachments": {},
   "cell_type": "markdown",
   "metadata": {},
   "source": [
    "Los puntos de control pueden ser seleccionados utilizando la función `load_model` de TorchMD-Net. También se pueden pasar a la función argumentos adicionales del modelo (por ejemplo, activar la predicción de fuerzas sobre las energías) para la inferencia. En el siguiente ejemplo se muestra el código para cargar un ET preentrenado en el conjunto de datos ANI1:"
   ]
  },
  {
   "cell_type": "code",
   "execution_count": null,
   "metadata": {},
   "outputs": [],
   "source": [
    "from torchmdnet.models.model import load_model\n",
    "model = load_model(\"ANI1-equivariant_transformer/epoch=359-val_loss=0.0004-test_loss=0.0120.ckpt\", derivative=True)"
   ]
  },
  {
   "attachments": {},
   "cell_type": "markdown",
   "metadata": {},
   "source": [
    "El siguiente ejemplo muestra cómo ejecutar la inferencia en el punto de control del modelo. Para moléculas individuales, sólo tienes que pasar números atómicos y tensores de posición, para evaluar el modelo en múltiples moléculas simultáneamente, incluye también un tensor batch, que contiene el índice de molécula de cada átomo."
   ]
  },
  {
   "cell_type": "code",
   "execution_count": null,
   "metadata": {},
   "outputs": [],
   "source": [
    "# molecula única\n",
    "z = torch.tensor([1, 1, 8], dtype=torch.long)\n",
    "pos = torch.rand(3, 3)\n",
    "energy, forces = model(z, pos)"
   ]
  },
  {
   "cell_type": "code",
   "execution_count": null,
   "metadata": {},
   "outputs": [],
   "source": [
    "# moleculas multiples \n",
    "z = torch.tensor([1, 1, 8, 1, 1, 8], dtype=torch.long)\n",
    "pos = torch.rand(6, 3)\n",
    "batch = torch.tensor([0, 0, 0, 1, 1, 1], dtype=torch.long)\n",
    "energies, forces = model(z, pos, batch)"
   ]
  },
  {
   "attachments": {},
   "cell_type": "markdown",
   "metadata": {},
   "source": [
    "# Texto original"
   ]
  },
  {
   "attachments": {},
   "cell_type": "markdown",
   "metadata": {},
   "source": [
    "## Carga de puntos de control\n",
    "Puedes acceder a varios archivos de puntos de control preentrenados bajo las siguientes URLs:\n",
    "\n",
    "- equivariant Transformer pretrained on QM9 (U0): http://pub.htmd.org/et-qm9.zip\n",
    "- equivariant Transformer pretrained on MD17 (aspirin): http://pub.htmd.org/et-md17.zip\n",
    "- equivariant Transformer pretrained on ANI1: http://pub.htmd.org/et-ani1.zip\n",
    "- invariant Transformer pretrained on ANI1: http://pub.htmd.org/t-ani1.zip\n",
    "\n",
    "Los puntos de control pueden cargarse utilizando la función `load_model` de TorchMD-Net. También se pueden pasar a la función argumentos adicionales del modelo (por ejemplo, activar la predicción de fuerza sobre las energías) para la inferencia. Vea el siguiente código de ejemplo para cargar un ET preentrenado en el conjunto de datos ANI1:\n",
    "\n",
    "```python\n",
    "from torchmdnet.models.model import load_model\n",
    "model = load_model(\"ANI1-equivariant_transformer/epoch=359-val_loss=0.0004-test_loss=0.0120.ckpt\", derivative=True)\n",
    "```\n",
    "El siguiente ejemplo muestra cómo ejecutar la inferencia en el punto de control del modelo. Para moléculas individuales, sólo tienes que pasar números atómicos y tensores de posición, para evaluar el modelo en múltiples moléculas simultáneamente, incluye también un tensor batch, que contiene el índice de molécula de cada átomo.\n",
    "```python\n",
    "import torch\n",
    "\n",
    "# molecula única\n",
    "z = torch.tensor([1, 1, 8], dtype=torch.long)\n",
    "pos = torch.rand(3, 3)\n",
    "energy, forces = model(z, pos)\n",
    "\n",
    "# moleculas multiples \n",
    "z = torch.tensor([1, 1, 8, 1, 1, 8], dtype=torch.long)\n",
    "pos = torch.rand(6, 3)\n",
    "batch = torch.tensor([0, 0, 0, 1, 1, 1], dtype=torch.long)\n",
    "energies, forces = model(z, pos, batch)\n",
    "```"
   ]
  }
 ],
 "metadata": {
  "kernelspec": {
   "display_name": "base",
   "language": "python",
   "name": "python3"
  },
  "language_info": {
   "codemirror_mode": {
    "name": "ipython",
    "version": 3
   },
   "file_extension": ".py",
   "mimetype": "text/x-python",
   "name": "python",
   "nbconvert_exporter": "python",
   "pygments_lexer": "ipython3",
   "version": "3.9.13"
  },
  "orig_nbformat": 4,
  "vscode": {
   "interpreter": {
    "hash": "4fdb5f1d017076b8ecb713a321f24a29afd116257f8eebf387a98257b2e0be50"
   }
  }
 },
 "nbformat": 4,
 "nbformat_minor": 2
}

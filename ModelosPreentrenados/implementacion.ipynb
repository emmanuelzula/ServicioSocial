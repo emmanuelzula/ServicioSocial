{
 "cells": [
  {
   "attachments": {},
   "cell_type": "markdown",
   "metadata": {},
   "source": [
    "# Implementación utilizando los modelos ya entrenados"
   ]
  },
  {
   "attachments": {},
   "cell_type": "markdown",
   "metadata": {},
   "source": [
    "# Entrenando desde cero "
   ]
  },
  {
   "attachments": {},
   "cell_type": "markdown",
   "metadata": {},
   "source": [
    "Seleccionamos las gpu's a utilizar configuarndo la variable de entorno CUDA_VISIBLE_DEVICES"
   ]
  },
  {
   "attachments": {},
   "cell_type": "markdown",
   "metadata": {},
   "source": [
    "Una vez creada la variable de entorno aplicamos el modelo ya entrenado"
   ]
  },
  {
   "cell_type": "code",
   "execution_count": null,
   "metadata": {},
   "outputs": [],
   "source": [
    "CUDA_VISIBLE_DEVICES=0,1 torchmd-train --conf examples/ET-{QM9,MD17,ANI1}.yaml"
   ]
  },
  {
   "attachments": {},
   "cell_type": "markdown",
   "metadata": {},
   "source": [
    "# Utilizando modelos preentrenados"
   ]
  },
  {
   "attachments": {},
   "cell_type": "markdown",
   "metadata": {},
   "source": [
    "Utilizando puntos de control"
   ]
  },
  {
   "cell_type": "code",
   "execution_count": null,
   "metadata": {},
   "outputs": [],
   "source": [
    "from torchmdnet.models.model import load_model\n",
    "model = load_model(\"ANI1-equivariant_transformer/epoch=359-val_loss=0.0004-test_loss=0.0120.ckpt\", derivative=True)"
   ]
  },
  {
   "cell_type": "code",
   "execution_count": null,
   "metadata": {},
   "outputs": [],
   "source": [
    "import torch\n",
    "\n",
    "# single molecule\n",
    "z = torch.tensor([1, 1, 8], dtype=torch.long)\n",
    "pos = torch.rand(3, 3)\n",
    "energy, forces = model(z, pos)\n",
    "\n",
    "# multiple molecules\n",
    "z = torch.tensor([1, 1, 8, 1, 1, 8], dtype=torch.long)\n",
    "pos = torch.rand(6, 3)\n",
    "batch = torch.tensor([0, 0, 0, 1, 1, 1], dtype=torch.long)\n",
    "energies, forces = model(z, pos, batch)"
   ]
  }
 ],
 "metadata": {
  "kernelspec": {
   "display_name": "torchmd-net",
   "language": "python",
   "name": "python3"
  },
  "language_info": {
   "name": "python",
   "version": "3.9.15 | packaged by conda-forge | (main, Nov 22 2022, 15:55:03) \n[GCC 10.4.0]"
  },
  "orig_nbformat": 4,
  "vscode": {
   "interpreter": {
    "hash": "024f89d119b5888b0712533c82b57c40f20815d6a5b7d482a2ba02cfa2e8290b"
   }
  }
 },
 "nbformat": 4,
 "nbformat_minor": 2
}
